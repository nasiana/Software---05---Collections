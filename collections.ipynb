{
 "cells": [
  {
   "cell_type": "markdown",
   "metadata": {},
   "source": [
    "# Collections"
   ]
  },
  {
   "cell_type": "markdown",
   "metadata": {},
   "source": [
    "The `collections` module provides different types of containers."
   ]
  },
  {
   "cell_type": "code",
   "execution_count": null,
   "metadata": {},
   "outputs": [],
   "source": [
    "import collections\n",
    "\n",
    "dir(collections)"
   ]
  },
  {
   "cell_type": "markdown",
   "metadata": {},
   "source": [
    "## Counter"
   ]
  },
  {
   "cell_type": "code",
   "execution_count": null,
   "metadata": {},
   "outputs": [],
   "source": [
    "from collections import Counter\n",
    "\n",
    "\n",
    "a_list = [1, 2, 2, 3, 4, 4, 4, 10]\n",
    "a_string = 'CodeFirstGirls'\n",
    "a_dict = {'a': 5, 'b': 3, 'c': 5, 'd': 5, 'e': 1}\n",
    "\n",
    "c_list = Counter(a_list)\n",
    "c_string = Counter(a_string)\n",
    "c_dict = Counter(a_dict.values())\n",
    "\n",
    "print(c_list)\n",
    "print(c_string)\n",
    "print(c_dict)\n",
    "\n",
    "c_list.update([2])\n",
    "print(c_list)"
   ]
  },
  {
   "cell_type": "markdown",
   "metadata": {},
   "source": [
    "## OrderedDict\n",
    "Less important since Python 3.7, when the built-in `dict` class gained the ability to remember insertion order."
   ]
  },
  {
   "cell_type": "code",
   "execution_count": null,
   "metadata": {},
   "outputs": [],
   "source": [
    "from collections import OrderedDict\n",
    "\n",
    "d = OrderedDict([('apple', 5), ('orange', 6)])\n",
    "print(d)\n",
    "\n",
    "d['kiwi'] = 7\n",
    "print(d)\n",
    "\n",
    "d['melon'] = 8\n",
    "print(d)\n",
    "\n",
    "# create empty OrderedDict and populate\n",
    "\n",
    "o = OrderedDict()\n",
    "o['key1'] = \"value1\"\n",
    "o['key2'] = \"value2\"\n",
    "print(o)"
   ]
  },
  {
   "cell_type": "markdown",
   "metadata": {},
   "source": [
    "## DefaultDict\n",
    "Like `dict`, but never raises a `KeyError` - returns a default value instead."
   ]
  },
  {
   "cell_type": "code",
   "execution_count": null,
   "metadata": {},
   "outputs": [],
   "source": [
    "from collections import defaultdict\n",
    "\n",
    "state_capitals = defaultdict(str)\n",
    "print(state_capitals)\n",
    "\n",
    "state_capitals['Alaska']\n",
    "print(state_capitals)\n",
    "\n",
    "\n",
    "# list example\n",
    "\n",
    "basket = [('Fruit', 'Pear'), ('Vegetable', 'Tomato'), ('Fruit', 'Peach')]\n",
    "dd = defaultdict(list)\n",
    "\n",
    "for k, v in basket:\n",
    "    dd[k].append(v)\n",
    "\n",
    "print(dd)"
   ]
  },
  {
   "cell_type": "markdown",
   "metadata": {},
   "source": [
    "## NamedTuple\n",
    "Quick way of grouping together some data - similar to classes. It's like a dictionary - contains labels and values, but unlike a dictionary, you can access values using a key as well as iteration. Immutable."
   ]
  },
  {
   "cell_type": "code",
   "execution_count": null,
   "metadata": {},
   "outputs": [],
   "source": [
    "from collections import namedtuple\n",
    "\n",
    "\n",
    "Person = namedtuple('Person', ['age', 'height', 'name'])\n",
    "\n",
    "# alternatively\n",
    "\n",
    "Person1 = namedtuple('Person', 'age height name')\n",
    "\n",
    "anna = Person(30, 165, 'Anna')\n",
    "marie_liz = Person1(age=25, height=178, name='Marie Elizabeth')\n",
    "\n",
    "print(anna.age)\n",
    "print(anna.name)\n",
    "print(anna[1])\n",
    "\n",
    "\n",
    "'''\n",
    "The first argument to the namedtuple constructor (in our example 'Person') is the typename. \n",
    "It is typical to use the same word for the constructor and the typename, but they can be different:\n",
    "'''\n",
    "\n",
    "Human = namedtuple('Person',  'age, height, name')\n",
    "sophie = Human(40, 175, 'Sophie')\n",
    "print(sophie)"
   ]
  },
  {
   "cell_type": "markdown",
   "metadata": {},
   "source": [
    "## ChainMap"
   ]
  },
  {
   "cell_type": "code",
   "execution_count": null,
   "metadata": {},
   "outputs": [],
   "source": [
    "\n",
    "from collections import  ChainMap\n",
    "\n",
    "# define two dictionaries with at least some keys overlapping.\n",
    "dict1 = {'apple': 1, 'banana': 2}\n",
    "dict2 = {'coconut': 1, 'date': 1, 'apple': 3}\n",
    "\n",
    "# create two ChainMaps with different ordering of those dicts.\n",
    "combined_dict = ChainMap(dict1, dict2)\n",
    "reverse_ordered_dict = ChainMap(dict2, dict1)\n",
    "\n",
    "print(combined_dict)\n",
    "\n",
    "for k, v in combined_dict.items():\n",
    "    print(k, v)\n",
    "\n",
    "\n",
    "print(reverse_ordered_dict)\n",
    "\n",
    "for k, v in reverse_ordered_dict.items():\n",
    "    print(k, v)\n"
   ]
  },
  {
   "cell_type": "markdown",
   "metadata": {},
   "source": [
    "## Deque\n",
    "Doubled Ended Queue"
   ]
  },
  {
   "cell_type": "code",
   "execution_count": null,
   "metadata": {},
   "outputs": [],
   "source": [
    "from collections import deque\n",
    "d = deque('CodeFirst')\n",
    "\n",
    "for elem in d:\n",
    "    print(elem.upper())\n",
    "\n",
    "d.append('!')\n",
    "d.appendleft('*')\n",
    "\n",
    "print(d)\n",
    "\n",
    "d.pop()\n",
    "print(d)\n",
    "d.popleft()\n",
    "print(d)\n",
    "\n",
    "d.extend('123')\n",
    "print(d)\n",
    "\n",
    "d.rotate(1)\n",
    "print(d)\n",
    "\n",
    "d.rotate(-1)\n",
    "print(d)\n",
    "\n",
    "d.clear()\n",
    "\n",
    "# this will throw error as we cannot pop from empty deque\n",
    "# d.pop()\n",
    "\n",
    "d.extendleft('abc')\n",
    "print(d)\n",
    "\n",
    "# Can also speciy a maxlen"
   ]
  },
  {
   "cell_type": "markdown",
   "metadata": {},
   "source": [
    "## UserList, UserDict, UserString\n",
    "Wrapper around the original object (list, dict, string) to allow us to create our own list/dist/string with some modified or additional functionality."
   ]
  },
  {
   "cell_type": "code",
   "execution_count": null,
   "metadata": {},
   "outputs": [],
   "source": [
    "from collections import UserList\n",
    "\n",
    "\n",
    "class MyUniqueList(UserList):\n",
    "\n",
    "    def add_in_middle(self, item):\n",
    "        count = -1\n",
    "        for i in self:\n",
    "            count += 1\n",
    "\n",
    "        self[int(count / 2)] = item\n",
    "\n",
    "\n",
    "\n",
    "my_list = MyUniqueList([1, 2, 3, 4, 5])\n",
    "print(my_list)\n",
    "\n",
    "my_list.add_in_middle(\"CFG\")\n",
    "print(my_list)"
   ]
  }
 ],
 "metadata": {
  "interpreter": {
   "hash": "f65332f147b41578335efd8d2a3e52675cb60580caf47da42c831203f1235846"
  },
  "kernelspec": {
   "display_name": "Python 3.9.6 64-bit",
   "language": "python",
   "name": "python3"
  },
  "language_info": {
   "codemirror_mode": {
    "name": "ipython",
    "version": 3
   },
   "file_extension": ".py",
   "mimetype": "text/x-python",
   "name": "python",
   "nbconvert_exporter": "python",
   "pygments_lexer": "ipython3",
   "version": "3.9.6"
  },
  "orig_nbformat": 4
 },
 "nbformat": 4,
 "nbformat_minor": 2
}
